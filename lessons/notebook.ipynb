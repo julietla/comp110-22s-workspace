# Demo Jupyter Notebook

This notebook will exemplify some of the common use cases in Python Jupyter Notebooks.

name: str = "Kris"
print(name)